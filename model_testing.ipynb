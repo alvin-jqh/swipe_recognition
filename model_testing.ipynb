{
 "cells": [
  {
   "cell_type": "code",
   "execution_count": 1,
   "metadata": {},
   "outputs": [],
   "source": [
    "import torch\n",
    "import torch.nn as nn\n",
    "import torch.nn.functional as F\n",
    "\n",
    "device = torch.device(\"cuda:0\") if torch.cuda.is_available() else torch.device(\"cpu\")\n",
    "# device = torch.device(\"cpu\")\n",
    "# focus on 2 layer single direction lstms before fucking around"
   ]
  },
  {
   "cell_type": "code",
   "execution_count": 2,
   "metadata": {},
   "outputs": [],
   "source": [
    "class Encoder(nn.Module):\n",
    "    def __init__(self, input_size, hidden_size, num_layers=2, bidirectional = False):\n",
    "        super(Encoder, self).__init__()\n",
    "        self.hidden_size = hidden_size\n",
    "        self.num_layers = num_layers\n",
    "        self.bidirectional = bidirectional\n",
    "        self.lstm = nn.LSTM(input_size=input_size, \n",
    "                            hidden_size=hidden_size, \n",
    "                            num_layers=num_layers, \n",
    "                            batch_first=True,\n",
    "                            bidirectional=bidirectional,)\n",
    "        self.fc = nn.Linear(2*hidden_size,hidden_size)\n",
    "\n",
    "    def forward(self, x):\n",
    "        # x: (seq_len, batch_size, input_size)      seq len would be the number of touchpoints\n",
    "        outputs, (hidden, cell) = self.lstm(x)\n",
    "        # print(next(self.parameters()).device)\n",
    "        # if self.bidirectional:\n",
    "        #     outputs = self.fc(outputs)\n",
    "        # outputs: (seq_len, batch_size, hidden_size)\n",
    "        # hidden, cell: (num_layers, batch_size, hidden_size)\n",
    "        return outputs, hidden, cell"
   ]
  },
  {
   "cell_type": "code",
   "execution_count": 40,
   "metadata": {},
   "outputs": [],
   "source": [
    "test_encoder = Encoder(input_size=6,\n",
    "                       hidden_size=32,\n",
    "                       num_layers=2,\n",
    "                       bidirectional=True).to(device)\n",
    "test_en_in = torch.rand((8, 60, 6)).to(device)\n",
    "en_out, en_hidden, en_cell = test_encoder(test_en_in)"
   ]
  },
  {
   "cell_type": "code",
   "execution_count": 41,
   "metadata": {},
   "outputs": [],
   "source": [
    "key_project = nn.Linear(64,32).to(device)"
   ]
  },
  {
   "cell_type": "code",
   "execution_count": 42,
   "metadata": {},
   "outputs": [],
   "source": [
    "key = key_project(en_out)"
   ]
  },
  {
   "cell_type": "code",
   "execution_count": 23,
   "metadata": {},
   "outputs": [],
   "source": [
    "t_proj_layer_1 = nn.Linear(64,32).to(device)\n",
    "t_proj_layer_2 = nn.Linear(64,32).to(device)"
   ]
  },
  {
   "cell_type": "code",
   "execution_count": null,
   "metadata": {},
   "outputs": [],
   "source": [
    "layer_1_state = torch.cat((en_hidden[0], en_hidden[2]), dim = -1)\n",
    "layer_2_state = torch.cat((en_hidden[1], en_hidden[3]), dim = -1)"
   ]
  },
  {
   "cell_type": "code",
   "execution_count": 25,
   "metadata": {},
   "outputs": [],
   "source": [
    "proj_layer_1 = t_proj_layer_1(layer_1_state).unsqueeze(0)\n",
    "proj_layer_2 = t_proj_layer_2(layer_2_state).unsqueeze(0)"
   ]
  },
  {
   "cell_type": "code",
   "execution_count": null,
   "metadata": {},
   "outputs": [],
   "source": [
    "tt = torch.Tensor().to(device)"
   ]
  },
  {
   "cell_type": "code",
   "execution_count": null,
   "metadata": {},
   "outputs": [],
   "source": [
    "new = torch.rand((8,1, 27))\n",
    "tt = torch.cat((tt, new), dim = 1)"
   ]
  },
  {
   "cell_type": "code",
   "execution_count": 3,
   "metadata": {},
   "outputs": [],
   "source": [
    "class Decoder(nn.Module):\n",
    "    def __init__(self, hidden_size, output_size, max_letters=10, force_ratio = 0.7, num_layers = 2, bidirectional = False):\n",
    "        super(Decoder, self).__init__()\n",
    "        self.hidden_size = hidden_size\n",
    "        self.output_size = output_size\n",
    "        self.num_layers = num_layers\n",
    "        self.bidirectional = bidirectional\n",
    "        self.force_ratio = force_ratio\n",
    "        self.max_letters=max_letters\n",
    "\n",
    "        self.embedding = nn.Embedding(output_size, hidden_size)\n",
    "        self.lstm = nn.LSTM(input_size=2*hidden_size,\n",
    "                            hidden_size=hidden_size,\n",
    "                            num_layers=num_layers,\n",
    "                            bidirectional=bidirectional,\n",
    "                            batch_first=True)\n",
    "        # the output size doubles if the lstm is bidirectional\n",
    "        fc_in_size = 2*hidden_size if bidirectional else hidden_size\n",
    "        self.fc = nn.Linear(fc_in_size,output_size)\n",
    "\n",
    "    def forward(self, key, value, encoder_hidden, encoder_cell, word_tensor=None):\n",
    "        \"\"\"\n",
    "        Args:\n",
    "            encoder_output: output from encoder (N, L, decoder hidden)\n",
    "            encoder_hidden: hidden state from encoder (D * Layers, N, Hidden) for encoder\n",
    "            encoder_cell: cell state from encoder (D * Layers, N, Hidden) for encoder\n",
    "            word_tensor: word tensors containing indicies of letters (N, max length)\n",
    "        \"\"\"\n",
    "        batch_size = key.shape[0]\n",
    "        word_length = min(self.max_letters, word_tensor.shape[-1]) if word_tensor is not None else self.max_letters\n",
    "        # create the first decoder input, which is blank inputs\n",
    "        decoder_input = torch.tensor([0] * batch_size, dtype=torch.long, device=next(self.parameters()).device)\n",
    "        # initial hidden and cell state comes from final layer of encoder, shape is (N, encoder hidden)\n",
    "        decoder_hidden = encoder_hidden\n",
    "        decoder_cell = encoder_cell\n",
    "\n",
    "        decoder_outputs = torch.Tensor().to(next(self.parameters()).device)\n",
    "        # for each letter in word\n",
    "        for i in range(word_length):\n",
    "            decoder_output, decoder_hidden, decoder_cell = self.step(decoder_input,\n",
    "                                                                     decoder_hidden,\n",
    "                                                                     decoder_cell,\n",
    "                                                                     key,\n",
    "                                                                     value)\n",
    "            decoder_outputs = torch.cat((decoder_outputs,decoder_output), dim=1)  # add to list of outputs\n",
    "            # print(decoder_output.shape)\n",
    "\n",
    "            teacher_force = torch.rand(1).item() < self.force_ratio\n",
    "            \n",
    "            if teacher_force and word_tensor is not None:\n",
    "                decoder_input = word_tensor[:,i]    # next letter\n",
    "            else:\n",
    "                # for using when not teacher forcing, use model prediction\n",
    "                decoder_input = torch.argmax(decoder_output.squeeze(1), dim=-1) # 1D with length N\n",
    "        \n",
    "        probs = F.softmax(decoder_outputs, dim=-1)\n",
    "\n",
    "        return probs, decoder_hidden, decoder_cell\n",
    "\n",
    "    def step(self, decoder_input, hidden, cell, key, value):\n",
    "        \"\"\"\n",
    "        Args:\n",
    "            decoder_input: shape (N), should be indicies for the letters, dtype either int or long\n",
    "            hidden: hidden state of lstm (D*Layers, N, decoder hidden)\n",
    "            cell: cell state of lstm (D*Layers, N, deocder hidden)\n",
    "            encoder_output: output from encoder (N, L, decoder hidden)\n",
    "        \"\"\"\n",
    "        embedded = self.embedding(decoder_input.unsqueeze(1))  # (N, 1 decoder hidden)\n",
    "        query = hidden[-1].unsqueeze(0).permute(1, 0, 2) # (N, D*Layers, decoder hidden)    Query should come from the decoders hidden state\n",
    "        # print(query.shape)\n",
    "        context = F.scaled_dot_product_attention(query, key, value) # (N, 1, decoder hidden)\n",
    "        # print(context.shape)\n",
    "        input_lstm = torch.cat((embedded, context), dim=-1) # (N, 1, 2*decoder hidden)\n",
    "        output_lstm, (hidden, cell) = self.lstm(input_lstm, (hidden, cell)) # output lstm (N, 1, D*hidden)\n",
    "        output_fc = self.fc(output_lstm)\n",
    "\n",
    "        return output_fc, hidden, cell"
   ]
  },
  {
   "cell_type": "code",
   "execution_count": 39,
   "metadata": {},
   "outputs": [
    {
     "data": {
      "text/plain": [
       "torch.Size([8, 4, 27])"
      ]
     },
     "execution_count": 39,
     "metadata": {},
     "output_type": "execute_result"
    }
   ],
   "source": [
    "test_decoder = Decoder(hidden_size=32,\n",
    "                       output_size=27,\n",
    "                       force_ratio=0.7,\n",
    "                       num_layers=2,\n",
    "                       bidirectional=False).to(device)\n",
    "\n",
    "test_en_output = torch.rand((8, 60, 32)).to(device)\n",
    "test_en_hid = torch.rand((2, 8, 32)).to(device)\n",
    "test_en_cell = torch.rand((2, 8, 32)).to(device)\n",
    "test_word = torch.randint(0, 27, (8, 4)).to(device)\n",
    "\n",
    "de_out, de_hid, de_cell = test_decoder(test_en_output,test_en_output, test_en_hid, test_en_cell, test_word)\n",
    "de_out.shape"
   ]
  },
  {
   "cell_type": "code",
   "execution_count": 40,
   "metadata": {},
   "outputs": [],
   "source": [
    "indicies = torch.argmax(de_out.squeeze(1), dim=-1)"
   ]
  },
  {
   "cell_type": "code",
   "execution_count": 9,
   "metadata": {},
   "outputs": [],
   "source": [
    "vocabulary = {'_': 0, 'a': 1, 'b': 2, 'c': 3, 'd': 4, 'e': 5, 'f': 6, 'g': 7, 'h': 8,\n",
    "              'i': 9, 'j': 10, 'k': 11, 'l': 12, 'm': 13, 'n': 14, 'o': 15, 'p': 16,\n",
    "              'q': 17, 'r': 18, 's': 19, 't': 20, 'u': 21, 'v': 22, 'w': 23, 'x': 24,\n",
    "              'y': 25, 'z': 26}"
   ]
  },
  {
   "cell_type": "code",
   "execution_count": 10,
   "metadata": {},
   "outputs": [],
   "source": [
    "reversed_vocab = {k: u for u, k in vocabulary.items()}"
   ]
  },
  {
   "cell_type": "code",
   "execution_count": 44,
   "metadata": {},
   "outputs": [
    {
     "data": {
      "text/plain": [
       "'e'"
      ]
     },
     "execution_count": 44,
     "metadata": {},
     "output_type": "execute_result"
    }
   ],
   "source": [
    "reversed_vocab[5]"
   ]
  },
  {
   "cell_type": "code",
   "execution_count": 46,
   "metadata": {},
   "outputs": [],
   "source": [
    "# indicies=indicies.tolist()\n",
    "words = []\n",
    "for word in indicies:\n",
    "    characters = [reversed_vocab[i] for i in word]\n",
    "    words.append(characters)"
   ]
  },
  {
   "cell_type": "code",
   "execution_count": 8,
   "metadata": {},
   "outputs": [],
   "source": [
    "def handle_outputs(decoder_output):\n",
    "    indicies = torch.argmax(decoder_output.squeeze(1), dim=-1).tolist()\n",
    "    words = []\n",
    "    for word in indicies:\n",
    "        characters = [reversed_vocab[i] for i in word]\n",
    "        words.append(characters)\n",
    "    \n",
    "    return words"
   ]
  },
  {
   "cell_type": "code",
   "execution_count": 48,
   "metadata": {},
   "outputs": [
    {
     "data": {
      "text/plain": [
       "[['w', 'v', 'v', 'v', 'i', 'i', 'v', 'i', 'i', 'v'],\n",
       " ['y', 'i', 'v', 'i', 'i', 'i', 'v', 'v', 'i', 'v'],\n",
       " ['u', 'u', 'v', 'v', 'v', 'v', 'v', 'i', 'v', 'v'],\n",
       " ['a', 'v', 'v', 'i', 'i', 'i', 'i', 'i', 'i', 'i'],\n",
       " ['u', 'u', 'v', 'v', 'v', 'v', 'v', 'v', 'v', 'v'],\n",
       " ['i', 'v', 'v', 'i', 'i', 'i', 'i', 'i', 'i', 'i'],\n",
       " ['h', 'v', 'v', 'i', 'i', 'i', 'i', 'v', 'v', 'v'],\n",
       " ['u', 'v', 'v', 'v', 'v', 'v', 'v', 'v', 'v', 'v']]"
      ]
     },
     "execution_count": 48,
     "metadata": {},
     "output_type": "execute_result"
    }
   ],
   "source": [
    "handle_outputs(de_out)"
   ]
  },
  {
   "cell_type": "code",
   "execution_count": 4,
   "metadata": {},
   "outputs": [],
   "source": [
    "class Seq2Seq(nn.Module):\n",
    "    def __init__(self, hidden_size, num_layers, bidirectional=False, input_size=6, max_letters=10, force_ratio=0.7, output_size=27):\n",
    "        super(Seq2Seq, self).__init__()\n",
    "        self.input_size = input_size                # number of features for input\n",
    "        self.output_size = output_size              # output size of decoder, should be 27\n",
    "        self.encoder_hidden_size = hidden_size      # hidden size of encoder and decoder\n",
    "        self.num_layers = num_layers                # number of layers for both lstms\n",
    "        self.bidirectional = bidirectional          # bidirectional for both lstms\n",
    "        self.max_letters = max_letters              # max length for word output, word tensors should be padded to this length\n",
    "        self.force_ratio = force_ratio              # chance for teacher forcing in training\n",
    "\n",
    "        self.encoder = Encoder(input_size=input_size,\n",
    "                               hidden_size=hidden_size,\n",
    "                               num_layers=num_layers,\n",
    "                               bidirectional=bidirectional)\n",
    "\n",
    "        self.decoder = Decoder(hidden_size=hidden_size,\n",
    "                               output_size=output_size,\n",
    "                               max_letters=max_letters,\n",
    "                               force_ratio=force_ratio,\n",
    "                               num_layers=num_layers,\n",
    "                               bidirectional=False) # keep decoder unidirectional\n",
    "        \n",
    "        # used for projecting the hidden and cell for both layers of the encoder to the inital decoder state\n",
    "        self.hidden_projection_1 = nn.Linear(hidden_size*2,hidden_size)\n",
    "        self.cell_projection_1 = nn.Linear(hidden_size*2,hidden_size)\n",
    "\n",
    "        self.hidden_projection_2 = nn.Linear(hidden_size*2,hidden_size)\n",
    "        self.cell_projection_2 = nn.Linear(hidden_size*2,hidden_size)\n",
    "\n",
    "        self.key_projection = nn.Linear(hidden_size*2,hidden_size)\n",
    "        self.value_projection = nn.Linear(hidden_size*2,hidden_size)\n",
    "    \n",
    "    def forward(self, input, word_tensors=None):\n",
    "        # calculate the encoder outputs\n",
    "        encoder_output, encoder_hidden, encoder_cell = self.encoder(input)\n",
    "        # if the encoder is bidirectional, the hidden and cell states of the encoder need to be projected to match dimensions\n",
    "        if self.bidirectional:\n",
    "            # concatenate the layer states \n",
    "            layer_1_hidden = torch.cat((encoder_hidden[0], encoder_hidden[2]), dim=-1)\n",
    "            layer_2_hidden = torch.cat((encoder_hidden[1], encoder_hidden[3]), dim=-1)\n",
    "\n",
    "            layer_1_cell = torch.cat((encoder_cell[0], encoder_cell[2]), dim=-1)\n",
    "            layer_2_cell = torch.cat((encoder_cell[1], encoder_cell[3]), dim=-1)\n",
    "\n",
    "            # project\n",
    "            project_h1 = F.softmax(self.hidden_projection_1(layer_1_hidden), dim=-1).unsqueeze(0)\n",
    "            project_h2 = F.softmax(self.hidden_projection_2(layer_2_hidden), dim=-1).unsqueeze(0)\n",
    "\n",
    "            project_c1 = F.softmax(self.cell_projection_1(layer_1_cell), dim=-1).unsqueeze(0)\n",
    "            project_c2 = F.softmax(self.cell_projection_2(layer_2_cell), dim=-1).unsqueeze(0)\n",
    "\n",
    "            # recombine\n",
    "            encoder_hidden = torch.cat((project_h1, project_h2), dim=0)\n",
    "            encoder_cell = torch.cat((project_c1, project_c2), dim=0)\n",
    "\n",
    "            key = self.key_projection(encoder_output)\n",
    "            value = self.value_projection(encoder_output)\n",
    "        else:\n",
    "            # if not bidirectional, key and value arent transformed\n",
    "            key = encoder_output\n",
    "            value = encoder_output\n",
    "\n",
    "        # print(encoder_hidden.shape)\n",
    "        # print(encoder_cell.shape)\n",
    "        # print(encoder_output.shape)\n",
    "        # decoder\n",
    "        log_probs, decoder_hidden, decoder_cell = self.decoder(key, value, encoder_hidden, encoder_cell, word_tensors)\n",
    "        # shape of log_probs (N, T, C)\n",
    "        return log_probs  \n",
    "     "
   ]
  },
  {
   "cell_type": "code",
   "execution_count": 30,
   "metadata": {},
   "outputs": [],
   "source": [
    "t_model = Seq2Seq(32,2,True).to(device)\n",
    "\n",
    "test_input = torch.rand((1, 60, 6)).to(device)\n",
    "test_output = t_model(test_input)\n",
    "test_pred_words = handle_outputs(test_output)"
   ]
  },
  {
   "cell_type": "code",
   "execution_count": 2,
   "metadata": {},
   "outputs": [],
   "source": [
    "from model import Encoder\n",
    "\n",
    "t_enc = Encoder(6, 32, 2, True).to(device)"
   ]
  },
  {
   "cell_type": "code",
   "execution_count": 3,
   "metadata": {},
   "outputs": [],
   "source": [
    "t_input = torch.rand(8, 60, 6).to(device)\n",
    "t_output, t_en_hid, t_en_cell = t_enc(t_input)"
   ]
  },
  {
   "cell_type": "code",
   "execution_count": 4,
   "metadata": {},
   "outputs": [],
   "source": [
    "hidden_states = torch.cat([torch.cat((t_en_hid[i,:,:], t_en_hid[i+1,:,:]), dim=1).unsqueeze(0) for i in range(0, t_en_hid.shape[0], 2)], dim=0)"
   ]
  },
  {
   "cell_type": "code",
   "execution_count": 18,
   "metadata": {},
   "outputs": [],
   "source": [
    "class Decoder(nn.Module):\n",
    "    def __init__(self, output_size, hidden_size, num_layers=2, bidirectional=False):\n",
    "        \"\"\"\n",
    "        LSTM in the model is always batch first\n",
    "        param input_size: input size for decoder, should equal 27 also equals output size\n",
    "        param hidden_size: hidden_size for LSTM\n",
    "        param num_layers: number of layers\n",
    "        param bidirectional: bool\n",
    "        \"\"\"\n",
    "        super(Decoder, self).__init__()\n",
    "        self.outuput_size = output_size\n",
    "        self.hidden_size = hidden_size\n",
    "        self.num_layers = num_layers\n",
    "        self.bidirectional = bidirectional\n",
    "        self.lstm = nn.LSTM(input_size=output_size+hidden_size, \n",
    "                            hidden_size=hidden_size, \n",
    "                            num_layers=num_layers, \n",
    "                            batch_first=True,\n",
    "                            bidirectional=bidirectional,)\n",
    "        self.fc = nn.Linear(hidden_size,output_size)\n",
    "\n",
    "    def forward(self, input, hidden, cell, encoder_output):\n",
    "        \"\"\"\n",
    "        param input: (batch_size, 1, 27) next input, either previous output or one hot encoded letters\n",
    "        param hidden: previous hidden state of decoder  (num_layers, N, hidden_size)\n",
    "        param cell: previous cell state of decoder  (num_layers, N, hidden_size)\n",
    "        param encoder_output: encoder output used for attention value and key\n",
    "        \"\"\"\n",
    "\n",
    "        query = hidden[-1].unsqueeze(0).permute(1, 0, 2) # (N, num_layers, hidden_size)\n",
    "        context = F.scaled_dot_product_attention(query, encoder_output, encoder_output)\n",
    "        print(context.shape)\n",
    "        input = torch.cat((input, context), dim = -1)   # (N, 1, hidden + output_size)\n",
    "\n",
    "        # lstm_out shape (N, 1, hidden_size)\n",
    "        lstm_out, (hidden, cell) = self.lstm(input, (hidden, cell))\n",
    "        output = F.log_softmax(self.fc(lstm_out), dim=-1)\n",
    "        \n",
    "        # output: (batch_size, 1, hidden_size)\n",
    "        # hidden, cell: (num_layers, batch_size, hidden_size)\n",
    "        return output, hidden, cell\n",
    "\n",
    "t_de = Decoder(27, 32, 2, False).to(device)"
   ]
  },
  {
   "cell_type": "code",
   "execution_count": 20,
   "metadata": {},
   "outputs": [
    {
     "name": "stdout",
     "output_type": "stream",
     "text": [
      "torch.Size([8, 1, 32])\n"
     ]
    }
   ],
   "source": [
    "t_de_in = torch.LongTensor([5,8,3,1,6,3,6,8]).to(device)\n",
    "# one hot encodes the target characters\n",
    "one_hot = F.one_hot(t_de_in, num_classes =27).unsqueeze(1) # (N, 1, 27)\n",
    "\n",
    "t_de_out, t_de_hid, t_de_cell = t_de(one_hot, t_en_hid, t_en_cell, t_output)"
   ]
  },
  {
   "cell_type": "code",
   "execution_count": 17,
   "metadata": {},
   "outputs": [
    {
     "data": {
      "text/plain": [
       "tensor([1, 0, 0, 0, 0, 0, 0, 0])"
      ]
     },
     "execution_count": 17,
     "metadata": {},
     "output_type": "execute_result"
    }
   ],
   "source": [
    "torch.LongTensor([1] + [0]*7)"
   ]
  },
  {
   "cell_type": "code",
   "execution_count": null,
   "metadata": {},
   "outputs": [],
   "source": [
    "import torch\n",
    "import torch.nn as nn\n",
    "import torch.nn.functional as F\n",
    "\n",
    "device = torch.device(\"cuda:0\") if torch.cuda.is_available() else torch.device(\"cpu\")\n",
    "\n",
    "class Encoder(nn.Module):\n",
    "    def __init__(self, input_size, hidden_size, num_layers=2, bidirectional = True):\n",
    "        \"\"\"\n",
    "        LSTM in the model is always batch first\n",
    "        param input_size: input size for encoder, 6\n",
    "        param hidden_size: hidden_size for LSTM\n",
    "        param num_layers: number of layers\n",
    "        param bidirectional: bool\n",
    "        \"\"\"\n",
    "        super(Encoder, self).__init__()\n",
    "        self.hidden_size = hidden_size\n",
    "        self.num_layers = num_layers\n",
    "        self.bidirectional = bidirectional\n",
    "        self.lstm = nn.LSTM(input_size=input_size, \n",
    "                            hidden_size=hidden_size, \n",
    "                            num_layers=num_layers, \n",
    "                            batch_first=True,\n",
    "                            bidirectional=bidirectional,)\n",
    "        self.fc_hidden = nn.Linear(2*hidden_size,hidden_size)\n",
    "        self.fc_cell = nn.Linear(2*hidden_size,hidden_size)\n",
    "        self.fc_out = nn.Linear(2*hidden_size, hidden_size)\n",
    "\n",
    "    def forward(self, x):\n",
    "        \"\"\"\n",
    "        : param x: (batch_size, seq_len, input_size)      seq len would be the number of touchpoints\n",
    "        : return outputs: (seq_len, batch_size, hidden_size)\n",
    "        : return hidden, cell: the final hidden and cell states\n",
    "        \"\"\"\n",
    "        lstm_outputs, (hidden, cell) = self.lstm(x)\n",
    "        # shape now of states is (2, hidden state) after concat\n",
    "        hidden_states = torch.cat([torch.cat((hidden[i,:,:], hidden[i+1,:,:]), dim=1).unsqueeze(0) for i in range(0, hidden.shape[0], 2)], dim=0)\n",
    "        cell_states = torch.cat([torch.cat((cell[i,:,:], cell[i+1,:,:]), dim=1).unsqueeze(0) for i in range(0, cell.shape[0], 2)], dim=0)\n",
    "\n",
    "        hidden = torch.relu(self.fc_hidden(hidden_states))\n",
    "        cell = torch.relu(self.fc_cell(cell_states))\n",
    "        outputs = torch.relu(self.fc_out(lstm_outputs))\n",
    "\n",
    "        return outputs, hidden, cell\n",
    "class Decoder(nn.Module):\n",
    "    def __init__(self, output_size, hidden_size, num_layers=2, bidirectional=False):\n",
    "        \"\"\"\n",
    "        LSTM in the model is always batch first\n",
    "        param input_size: input size for decoder, should equal 27 also equals output size\n",
    "        param hidden_size: hidden_size for LSTM\n",
    "        param num_layers: number of layers\n",
    "        param bidirectional: bool\n",
    "        \"\"\"\n",
    "        super(Decoder, self).__init__()\n",
    "        self.outuput_size = output_size\n",
    "        self.hidden_size = hidden_size\n",
    "        self.num_layers = num_layers\n",
    "        self.bidirectional = bidirectional\n",
    "        self.lstm = nn.LSTM(input_size=hidden_size, \n",
    "                            hidden_size=hidden_size, \n",
    "                            num_layers=num_layers, \n",
    "                            batch_first=True,\n",
    "                            bidirectional=bidirectional,)\n",
    "        self.fc = nn.Linear(hidden_size,output_size)\n",
    "\n",
    "    def forward(self, hidden, cell, encoder_output):\n",
    "        \"\"\"\n",
    "        param hidden: previous hidden state of decoder  (num_layers, N, hidden_size)\n",
    "        param cell: previous cell state of decoder  (num_layers, N, hidden_size)\n",
    "        param encoder_output: encoder output used for attention value and key\n",
    "        \"\"\"\n",
    "\n",
    "        query = hidden[-1].unsqueeze(0).permute(1, 0, 2) # (N, num_layers, hidden_size)\n",
    "        context = F.scaled_dot_product_attention(query, encoder_output, encoder_output) # (N, 1, hidden_size)\n",
    "\n",
    "        # lstm_out shape (N, 1, hidden_size)\n",
    "        lstm_out, (hidden, cell) = self.lstm(context, (hidden, cell))\n",
    "        output = F.log_softmax(self.fc(lstm_out), dim=-1)\n",
    "        \n",
    "        # output: (batch_size, 1, hidden_size)\n",
    "        # hidden, cell: (num_layers, batch_size, hidden_size)\n",
    "        return output, hidden, cell    \n",
    "\n",
    "class Seq2Seq(nn.Module):\n",
    "    def __init__(self, hidden_size, num_layers, input_size=6, output_size=27, max_letters = 20):\n",
    "        super(Seq2Seq, self).__init__()\n",
    "        self.input_size = input_size                # number of features for input\n",
    "        self.output_size = output_size              # output size of decoder, should be 27\n",
    "        self.encoder_hidden_size = hidden_size      # hidden size of encoder and decoder\n",
    "        self.num_layers = num_layers                # number of layers for both lstms\n",
    "        self.max_letters = max_letters              # max length of prediction\n",
    "\n",
    "        self.encoder = Encoder(input_size=input_size,\n",
    "                               hidden_size=hidden_size,\n",
    "                               num_layers=num_layers,\n",
    "                               bidirectional=True)\n",
    "\n",
    "        self.decoder = Decoder(hidden_size=hidden_size,\n",
    "                               output_size=output_size,\n",
    "                               num_layers=num_layers,\n",
    "                               bidirectional=False) # keep decoder unidirectional\n",
    "    \n",
    "    def forward(self, input):\n",
    "        \"\"\"\n",
    "        param input: (N, T, 6) input sequence\n",
    "        \"\"\"\n",
    "        batch_size = input.shape[0]\n",
    "\n",
    "        # encode the sequence\n",
    "        encoder_output, hidden, cell = self.encoder(input)\n",
    "\n",
    "        # where to store all the log probabilities\n",
    "        outputs = torch.zeros(batch_size, encoder_output.shape[1], self.output_size).to(next(self.parameters()).device)\n",
    "\n",
    "        for i in range(encoder_output.shape[1]):\n",
    "            output, hidden, cell = self.decoder(hidden, cell, encoder_output)\n",
    "            # print(output.shape)\n",
    "            outputs[:,i,:] = output.squeeze(1)\n",
    "\n",
    "        return outputs\n",
    "    \n",
    "    def predict(self, input, max_length):\n",
    "        batch_size = input.shape[0]\n",
    "        # store outputs\n",
    "        outputs = torch.zeros(batch_size, max_length, self.output_size).to(next(self.parameters()).device)\n",
    "\n",
    "        # encode the sequence\n",
    "        encoder_output, hidden, cell = self.encoder(input)\n",
    "        # get the first decoder input\n",
    "        blank = torch.LongTensor([0]*batch_size).to(next(self.parameters()).device)\n",
    "        decoder_input = F.one_hot(blank, num_classes=27).unsqueeze(1)   # (N, 1, 27)\n",
    "\n",
    "        for i in range(max_length):\n",
    "            output, hidden, cell = self.decoder(decoder_input, hidden, cell, encoder_output)\n",
    "            outputs[:,i,:] = output.squeeze(1)\n",
    "            decoder_input = output\n",
    "\n",
    "        return outputs\n",
    "    \n",
    "t_model = Seq2Seq(32, 2, 6, 27).to(device)"
   ]
  },
  {
   "cell_type": "code",
   "execution_count": 27,
   "metadata": {},
   "outputs": [
    {
     "data": {
      "text/plain": [
       "torch.Size([2, 27])"
      ]
     },
     "execution_count": 27,
     "metadata": {},
     "output_type": "execute_result"
    }
   ],
   "source": [
    "torch.zeros(2, 4, 27)[:,0,:].shape"
   ]
  },
  {
   "cell_type": "code",
   "execution_count": 15,
   "metadata": {},
   "outputs": [],
   "source": [
    "import numpy as np\n",
    "\n",
    "t_input = torch.rand(2, 60, 6).to(device)\n",
    "\n",
    "vocabulary = {'_': 0, 'a': 1, 'b': 2, 'c': 3, 'd': 4, 'e': 5, 'f': 6, 'g': 7, 'h': 8,\n",
    "              'i': 9, 'j': 10, 'k': 11, 'l': 12, 'm': 13, 'n': 14, 'o': 15, 'p': 16,\n",
    "              'q': 17, 'r': 18, 's': 19, 't': 20, 'u': 21, 'v': 22, 'w': 23, 'x': 24,\n",
    "              'y': 25, 'z': 26}\n",
    "\n",
    "words = [\"walk\", \"bulk\"]\n",
    "encoded = np.zeros(shape=(2, 4))\n",
    "for i, word in enumerate(words):\n",
    "    encoded_word = []\n",
    "    for letter in word:\n",
    "        encoded_word.append(vocabulary[letter])\n",
    "    encoded[i] = encoded_word\n",
    "\n",
    "encoded = torch.LongTensor(encoded).to(device)"
   ]
  },
  {
   "cell_type": "code",
   "execution_count": 16,
   "metadata": {},
   "outputs": [
    {
     "data": {
      "text/plain": [
       "False"
      ]
     },
     "execution_count": 16,
     "metadata": {},
     "output_type": "execute_result"
    }
   ],
   "source": [
    "t_output = t_model(t_input, encoded, 0.5)\n",
    "t_predict = t_model.predict(t_input, 4)\n",
    "torch.equal(t_output, t_predict)"
   ]
  },
  {
   "cell_type": "code",
   "execution_count": 10,
   "metadata": {},
   "outputs": [
    {
     "data": {
      "text/plain": [
       "tensor(3.2946, device='cuda:0', grad_fn=<MeanBackward0>)"
      ]
     },
     "execution_count": 10,
     "metadata": {},
     "output_type": "execute_result"
    }
   ],
   "source": [
    "loss_fn = nn.CTCLoss()\n",
    "input_lengths = torch.LongTensor([4, 4])\n",
    "target_lengths = torch.LongTensor([4, 4])\n",
    "loss_fn(t_output.permute(1, 0, 2), encoded, input_lengths, target_lengths)"
   ]
  }
 ],
 "metadata": {
  "kernelspec": {
   "display_name": "NLP",
   "language": "python",
   "name": "python3"
  },
  "language_info": {
   "codemirror_mode": {
    "name": "ipython",
    "version": 3
   },
   "file_extension": ".py",
   "mimetype": "text/x-python",
   "name": "python",
   "nbconvert_exporter": "python",
   "pygments_lexer": "ipython3",
   "version": "3.12.9"
  }
 },
 "nbformat": 4,
 "nbformat_minor": 2
}
