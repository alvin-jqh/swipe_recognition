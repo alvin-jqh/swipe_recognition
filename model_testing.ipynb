{
 "cells": [
  {
   "cell_type": "code",
   "execution_count": 1,
   "metadata": {},
   "outputs": [],
   "source": [
    "import torch\n",
    "import torch.nn as nn\n",
    "import torch.nn.functional as F"
   ]
  },
  {
   "cell_type": "code",
   "execution_count": 2,
   "metadata": {},
   "outputs": [],
   "source": [
    "class Encoder(nn.Module):\n",
    "    def __init__(self, input_size, hidden_size, num_layers=2, bidirectional = False):\n",
    "        super(Encoder, self).__init__()\n",
    "        self.hidden_size = hidden_size\n",
    "        self.num_layers = num_layers\n",
    "        self.bidirectional = bidirectional\n",
    "        self.lstm = nn.LSTM(input_size=input_size, \n",
    "                            hidden_size=hidden_size, \n",
    "                            num_layers=num_layers, \n",
    "                            batch_first=True,\n",
    "                            bidirectional=bidirectional,)\n",
    "        self.fc = nn.Linear(2*hidden_size,hidden_size)\n",
    "\n",
    "    def forward(self, x):\n",
    "        # x: (seq_len, batch_size, input_size)      seq len would be the number of touchpoints\n",
    "        outputs, (hidden, cell) = self.lstm(x)\n",
    "\n",
    "        # if self.bidirectional:\n",
    "        #     outputs = self.fc(outputs)\n",
    "        # outputs: (seq_len, batch_size, hidden_size)\n",
    "        # hidden, cell: (num_layers, batch_size, hidden_size)\n",
    "        return outputs, hidden, cell"
   ]
  },
  {
   "cell_type": "code",
   "execution_count": 5,
   "metadata": {},
   "outputs": [],
   "source": [
    "test_encoder = Encoder(input_size=6,\n",
    "                       hidden_size=32,\n",
    "                       num_layers=2,\n",
    "                       bidirectional=False)\n",
    "test_en_in = torch.rand((8, 60, 6))\n",
    "en_out, en_hidden, en_cell = test_encoder(test_en_in)"
   ]
  }
 ],
 "metadata": {
  "kernelspec": {
   "display_name": "NLP",
   "language": "python",
   "name": "python3"
  },
  "language_info": {
   "codemirror_mode": {
    "name": "ipython",
    "version": 3
   },
   "file_extension": ".py",
   "mimetype": "text/x-python",
   "name": "python",
   "nbconvert_exporter": "python",
   "pygments_lexer": "ipython3",
   "version": "3.12.9"
  }
 },
 "nbformat": 4,
 "nbformat_minor": 2
}
