{
 "cells": [
  {
   "cell_type": "code",
   "execution_count": 1,
   "metadata": {},
   "outputs": [],
   "source": [
    "import torch\n",
    "import torch.nn as nn\n",
    "import torch.nn.functional as F\n",
    "\n",
    "device = torch.device(\"cuda:0\") if torch.cuda.is_available() else torch.device(\"cpu\")\n",
    "# device = torch.device(\"cpu\")\n",
    "# focus on 2 layer single direction lstms before fucking around"
   ]
  },
  {
   "cell_type": "code",
   "execution_count": null,
   "metadata": {},
   "outputs": [],
   "source": [
    "class Encoder(nn.Module):\n",
    "    def __init__(self, input_size, hidden_size, num_layers=2, bidirectional = False):\n",
    "        super(Encoder, self).__init__()\n",
    "        self.hidden_size = hidden_size\n",
    "        self.num_layers = num_layers\n",
    "        self.bidirectional = bidirectional\n",
    "        self.lstm = nn.LSTM(input_size=input_size, \n",
    "                            hidden_size=hidden_size, \n",
    "                            num_layers=num_layers, \n",
    "                            batch_first=True,\n",
    "                            bidirectional=bidirectional,)\n",
    "        self.fc = nn.Linear(2*hidden_size,hidden_size)\n",
    "\n",
    "    def forward(self, x):\n",
    "        # x: (seq_len, batch_size, input_size)      seq len would be the number of touchpoints\n",
    "        outputs, (hidden, cell) = self.lstm(x)\n",
    "        # print(next(self.parameters()).device)\n",
    "        # if self.bidirectional:\n",
    "        #     outputs = self.fc(outputs)\n",
    "        # outputs: (seq_len, batch_size, hidden_size)\n",
    "        # hidden, cell: (num_layers, batch_size, hidden_size)\n",
    "        return outputs, hidden, cell"
   ]
  },
  {
   "cell_type": "code",
   "execution_count": null,
   "metadata": {},
   "outputs": [],
   "source": [
    "test_encoder = Encoder(input_size=6,\n",
    "                       hidden_size=32,\n",
    "                       num_layers=2,\n",
    "                       bidirectional=False).to(device)\n",
    "test_en_in = torch.rand((8, 60, 6)).to(device)\n",
    "en_out, en_hidden, en_cell = test_encoder(test_en_in)"
   ]
  },
  {
   "cell_type": "code",
   "execution_count": null,
   "metadata": {},
   "outputs": [],
   "source": [
    "tt = torch.Tensor().to(device)"
   ]
  },
  {
   "cell_type": "code",
   "execution_count": null,
   "metadata": {},
   "outputs": [],
   "source": [
    "new = torch.rand((8,1, 27))\n",
    "tt = torch.cat((tt, new), dim = 1)"
   ]
  },
  {
   "cell_type": "code",
   "execution_count": 4,
   "metadata": {},
   "outputs": [],
   "source": [
    "class Decoder(nn.Module):\n",
    "    def __init__(self, hidden_size, output_size, max_letters=10, force_ratio = 0.7, num_layers = 2, bidirectional = False):\n",
    "        super(Decoder, self).__init__()\n",
    "        self.hidden_size = hidden_size\n",
    "        self.output_size = output_size\n",
    "        self.num_layers = num_layers\n",
    "        self.bidirectional = bidirectional\n",
    "        self.force_ratio = force_ratio\n",
    "        self.max_letters=max_letters\n",
    "\n",
    "        self.embedding = nn.Embedding(output_size, hidden_size)\n",
    "        self.lstm = nn.LSTM(input_size=2*hidden_size,\n",
    "                            hidden_size=hidden_size,\n",
    "                            num_layers=num_layers,\n",
    "                            bidirectional=bidirectional,\n",
    "                            batch_first=True)\n",
    "        # the output size doubles if the lstm is bidirectional\n",
    "        fc_in_size = 2*hidden_size if bidirectional else hidden_size\n",
    "        self.fc = nn.Linear(fc_in_size,output_size)\n",
    "\n",
    "    def forward(self, encoder_output, encoder_hidden, encoder_cell, word_tensor=None):\n",
    "        \"\"\"\n",
    "        Args:\n",
    "            encoder_output: output from encoder (N, L, decoder hidden)\n",
    "            encoder_hidden: hidden state from encoder (D * Layers, N, Hidden) for encoder\n",
    "            encoder_cell: cell state from encoder (D * Layers, N, Hidden) for encoder\n",
    "            word_tensor: word tensors containing indicies of letters (N, max length)\n",
    "        \"\"\"\n",
    "        batch_size = encoder_output.shape[0]\n",
    "        word_length = min(self.max_letters, word_tensor.shape[-1]) if word_tensor is not None else self.max_letters\n",
    "        # create the first decoder input, which is blank inputs\n",
    "        decoder_input = torch.tensor([0] * batch_size, dtype=torch.long, device=next(self.parameters()).device)\n",
    "        # initial hidden and cell state comes from final layer of encoder, shape is (N, encoder hidden)\n",
    "        decoder_hidden = encoder_hidden\n",
    "        decoder_cell = encoder_cell\n",
    "\n",
    "        decoder_outputs = torch.Tensor().to(device)\n",
    "        # for each letter in word\n",
    "        for i in range(word_length):\n",
    "            decoder_output, decoder_hidden, decoder_cell = self.step(decoder_input,\n",
    "                                                                     decoder_hidden,\n",
    "                                                                     decoder_cell,\n",
    "                                                                     encoder_output)\n",
    "            decoder_outputs = torch.cat((decoder_outputs,decoder_output), dim=1)  # add to list of outputs\n",
    "            # print(decoder_output.shape)\n",
    "\n",
    "            teacher_force = torch.rand(1).item() < self.force_ratio\n",
    "            \n",
    "            if teacher_force and word_tensor is not None:\n",
    "                decoder_input = word_tensor[:,i]    # next letter\n",
    "            else:\n",
    "                # for using when not teacher forcing, use model prediction\n",
    "                decoder_input = torch.argmax(decoder_output.squeeze(1), dim=-1) # 1D with length N\n",
    "        \n",
    "        probs = F.softmax(decoder_outputs, dim=-1)\n",
    "\n",
    "        return probs, decoder_hidden, decoder_cell\n",
    "\n",
    "    def step(self, decoder_input, hidden, cell, encoder_output):\n",
    "        \"\"\"\n",
    "        Args:\n",
    "            decoder_input: shape (N), should be indicies for the letters, dtype either int or long\n",
    "            hidden: hidden state of lstm (D*Layers, N, decoder hidden)\n",
    "            cell: cell state of lstm (D*Layers, N, deocder hidden)\n",
    "            encoder_output: output from encoder (N, L, decoder hidden)\n",
    "        \"\"\"\n",
    "        embedded = self.embedding(decoder_input.unsqueeze(1))  # (N, 1 decoder hidden)\n",
    "        query = hidden[-1].unsqueeze(0).permute(1, 0, 2) # (N, D*Layers, decoder hidden)    Query should come from the decoders hidden state\n",
    "        # print(query.shape)\n",
    "        context = F.scaled_dot_product_attention(query, encoder_output, encoder_output) # (N, 1, decoder hidden)\n",
    "        # print(context.shape)\n",
    "        input_lstm = torch.cat((embedded, context), dim=-1) # (N, 1, 2*decoder hidden)\n",
    "        output_lstm, (hidden, cell) = self.lstm(input_lstm, (hidden, cell)) # output lstm (N, 1, D*hidden)\n",
    "        output_fc = self.fc(output_lstm)\n",
    "\n",
    "        return output_fc, hidden, cell"
   ]
  },
  {
   "cell_type": "code",
   "execution_count": 13,
   "metadata": {},
   "outputs": [
    {
     "data": {
      "text/plain": [
       "torch.Size([8, 4, 27])"
      ]
     },
     "execution_count": 13,
     "metadata": {},
     "output_type": "execute_result"
    }
   ],
   "source": [
    "test_decoder = Decoder(hidden_size=32,\n",
    "                       output_size=27,\n",
    "                       force_ratio=0.7,\n",
    "                       num_layers=2,\n",
    "                       bidirectional=False).to(device)\n",
    "\n",
    "test_en_output = torch.rand((8, 60, 32)).to(device)\n",
    "test_en_hid = torch.rand((2, 8, 32)).to(device)\n",
    "test_en_cell = torch.rand((2, 8, 32)).to(device)\n",
    "test_word = torch.randint(0, 27, (8, 4)).to(device)\n",
    "\n",
    "de_out, de_hid, de_cell = test_decoder(test_en_output, test_en_hid, test_en_cell, test_word)\n",
    "de_out.shape"
   ]
  },
  {
   "cell_type": "code",
   "execution_count": 40,
   "metadata": {},
   "outputs": [],
   "source": [
    "indicies = torch.argmax(de_out.squeeze(1), dim=-1)"
   ]
  },
  {
   "cell_type": "code",
   "execution_count": 12,
   "metadata": {},
   "outputs": [],
   "source": [
    "vocabulary = {'_': 0, 'a': 1, 'b': 2, 'c': 3, 'd': 4, 'e': 5, 'f': 6, 'g': 7, 'h': 8,\n",
    "              'i': 9, 'j': 10, 'k': 11, 'l': 12, 'm': 13, 'n': 14, 'o': 15, 'p': 16,\n",
    "              'q': 17, 'r': 18, 's': 19, 't': 20, 'u': 21, 'v': 22, 'w': 23, 'x': 24,\n",
    "              'y': 25, 'z': 26}"
   ]
  },
  {
   "cell_type": "code",
   "execution_count": 13,
   "metadata": {},
   "outputs": [],
   "source": [
    "reversed_vocab = {k: u for u, k in vocabulary.items()}"
   ]
  },
  {
   "cell_type": "code",
   "execution_count": 44,
   "metadata": {},
   "outputs": [
    {
     "data": {
      "text/plain": [
       "'e'"
      ]
     },
     "execution_count": 44,
     "metadata": {},
     "output_type": "execute_result"
    }
   ],
   "source": [
    "reversed_vocab[5]"
   ]
  },
  {
   "cell_type": "code",
   "execution_count": 46,
   "metadata": {},
   "outputs": [],
   "source": [
    "# indicies=indicies.tolist()\n",
    "words = []\n",
    "for word in indicies:\n",
    "    characters = [reversed_vocab[i] for i in word]\n",
    "    words.append(characters)"
   ]
  },
  {
   "cell_type": "code",
   "execution_count": 10,
   "metadata": {},
   "outputs": [],
   "source": [
    "def handle_outputs(decoder_output):\n",
    "    indicies = torch.argmax(decoder_output.squeeze(1), dim=-1).tolist()\n",
    "    words = []\n",
    "    for word in indicies:\n",
    "        characters = [reversed_vocab[i] for i in word]\n",
    "        words.append(characters)\n",
    "    \n",
    "    return words"
   ]
  },
  {
   "cell_type": "code",
   "execution_count": 48,
   "metadata": {},
   "outputs": [
    {
     "data": {
      "text/plain": [
       "[['w', 'v', 'v', 'v', 'i', 'i', 'v', 'i', 'i', 'v'],\n",
       " ['y', 'i', 'v', 'i', 'i', 'i', 'v', 'v', 'i', 'v'],\n",
       " ['u', 'u', 'v', 'v', 'v', 'v', 'v', 'i', 'v', 'v'],\n",
       " ['a', 'v', 'v', 'i', 'i', 'i', 'i', 'i', 'i', 'i'],\n",
       " ['u', 'u', 'v', 'v', 'v', 'v', 'v', 'v', 'v', 'v'],\n",
       " ['i', 'v', 'v', 'i', 'i', 'i', 'i', 'i', 'i', 'i'],\n",
       " ['h', 'v', 'v', 'i', 'i', 'i', 'i', 'v', 'v', 'v'],\n",
       " ['u', 'v', 'v', 'v', 'v', 'v', 'v', 'v', 'v', 'v']]"
      ]
     },
     "execution_count": 48,
     "metadata": {},
     "output_type": "execute_result"
    }
   ],
   "source": [
    "handle_outputs(de_out)"
   ]
  },
  {
   "cell_type": "code",
   "execution_count": 7,
   "metadata": {},
   "outputs": [],
   "source": [
    "class Seq2Seq(nn.Module):\n",
    "    def __init__(self, hidden_size, num_layers, bidirectional=False, input_size=6, max_letters=10, force_ratio=0.7, output_size=27):\n",
    "        super(Seq2Seq, self).__init__()\n",
    "        self.input_size = input_size                # number of features for input\n",
    "        self.output_size = output_size              # output size of decoder, should be 27\n",
    "        self.encoder_hidden_size = hidden_size      # hidden size of encoder\n",
    "        self.num_layers = num_layers                # number of layers for both lstms\n",
    "        self.bidirectional = bidirectional          # bidirectional for both lstms\n",
    "        self.max_letters = max_letters              # max length for word output, word tensors should be padded to this length\n",
    "        self.force_ratio = force_ratio              # chance for teacher forcing in training\n",
    "\n",
    "        self.encoder = Encoder(input_size=input_size,\n",
    "                               hidden_size=hidden_size,\n",
    "                               num_layers=num_layers,\n",
    "                               bidirectional=bidirectional)\n",
    "        \n",
    "        self.decoder_hidden_size = hidden_size      # decoder hidden size depends on num of layers and bidirectionality\n",
    "        self.decoder = Decoder(hidden_size=self.decoder_hidden_size,\n",
    "                               output_size=output_size,\n",
    "                               max_letters=max_letters,\n",
    "                               force_ratio=force_ratio,\n",
    "                               num_layers=num_layers,\n",
    "                               bidirectional=False) # keep decoder unidirectional\n",
    "    \n",
    "    def forward(self, input, word_tensors=None):\n",
    "        # calculate the encoder outputs\n",
    "        encoder_output, encoder_hidden, encoder_cell = self.encoder(input)\n",
    "        # decoder\n",
    "        log_probs, decoder_hidden, decoder_cell = self.decoder(encoder_output, encoder_hidden, encoder_cell, word_tensors)\n",
    "\n",
    "        return log_probs  \n",
    "     "
   ]
  },
  {
   "cell_type": "code",
   "execution_count": 14,
   "metadata": {},
   "outputs": [
    {
     "name": "stdout",
     "output_type": "stream",
     "text": [
      "cuda:0\n"
     ]
    }
   ],
   "source": [
    "t_model = Seq2Seq(32,2,False).to(device)\n",
    "\n",
    "test_input = torch.rand((8, 60, 6)).to(device)\n",
    "test_output = t_model(test_input)\n",
    "test_pred_words = handle_outputs(test_output)"
   ]
  }
 ],
 "metadata": {
  "kernelspec": {
   "display_name": "Python 3",
   "language": "python",
   "name": "python3"
  },
  "language_info": {
   "codemirror_mode": {
    "name": "ipython",
    "version": 3
   },
   "file_extension": ".py",
   "mimetype": "text/x-python",
   "name": "python",
   "nbconvert_exporter": "python",
   "pygments_lexer": "ipython3",
   "version": "3.12.9"
  }
 },
 "nbformat": 4,
 "nbformat_minor": 2
}
