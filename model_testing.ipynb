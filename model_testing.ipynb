{
 "cells": [
  {
   "cell_type": "code",
   "execution_count": null,
   "metadata": {},
   "outputs": [],
   "source": [
    "import torch\n",
    "import torch.nn as nn\n",
    "import torch.nn.functional as F\n",
    "\n",
    "# device = torch.device(\"cuda:0\") if torch.cuda.is_available() else torch.device(\"cpu\")\n",
    "device = torch.device(\"cpu\")\n",
    "# focus on 2 layer single direction lstms before fucking around"
   ]
  },
  {
   "cell_type": "code",
   "execution_count": null,
   "metadata": {},
   "outputs": [],
   "source": [
    "class Encoder(nn.Module):\n",
    "    def __init__(self, input_size, hidden_size, num_layers=2, bidirectional = False):\n",
    "        super(Encoder, self).__init__()\n",
    "        self.hidden_size = hidden_size\n",
    "        self.num_layers = num_layers\n",
    "        self.bidirectional = bidirectional\n",
    "        self.lstm = nn.LSTM(input_size=input_size, \n",
    "                            hidden_size=hidden_size, \n",
    "                            num_layers=num_layers, \n",
    "                            batch_first=True,\n",
    "                            bidirectional=bidirectional,)\n",
    "        self.fc = nn.Linear(2*hidden_size,hidden_size)\n",
    "\n",
    "    def forward(self, x):\n",
    "        # x: (seq_len, batch_size, input_size)      seq len would be the number of touchpoints\n",
    "        outputs, (hidden, cell) = self.lstm(x)\n",
    "        print(next(self.parameters()).device)\n",
    "        # if self.bidirectional:\n",
    "        #     outputs = self.fc(outputs)\n",
    "        # outputs: (seq_len, batch_size, hidden_size)\n",
    "        # hidden, cell: (num_layers, batch_size, hidden_size)\n",
    "        return outputs, hidden, cell"
   ]
  },
  {
   "cell_type": "code",
   "execution_count": null,
   "metadata": {},
   "outputs": [],
   "source": [
    "test_encoder = Encoder(input_size=6,\n",
    "                       hidden_size=32,\n",
    "                       num_layers=2,\n",
    "                       bidirectional=False).to(device)\n",
    "test_en_in = torch.rand((8, 60, 6)).to(device)\n",
    "en_out, en_hidden, en_cell = test_encoder(test_en_in)"
   ]
  },
  {
   "cell_type": "code",
   "execution_count": null,
   "metadata": {},
   "outputs": [],
   "source": [
    "tt = torch.Tensor().to(device)"
   ]
  },
  {
   "cell_type": "code",
   "execution_count": null,
   "metadata": {},
   "outputs": [],
   "source": [
    "new = torch.rand((8,1, 27))\n",
    "tt = torch.cat((tt, new), dim = 1)"
   ]
  },
  {
   "cell_type": "code",
   "execution_count": 2,
   "metadata": {},
   "outputs": [],
   "source": [
    "class Decoder(nn.Module):\n",
    "    def __init__(self, hidden_size, output_size, force_ratio = 0.7, num_layers = 2, bidirectional = False):\n",
    "        super(Decoder, self).__init__()\n",
    "        self.hidden_size = hidden_size\n",
    "        self.output_size = output_size\n",
    "        self.num_layers = num_layers\n",
    "        self.bidirectional = bidirectional\n",
    "        self.force_ratio = force_ratio\n",
    "\n",
    "        self.embedding = nn.Embedding(output_size, hidden_size)\n",
    "        self.lstm = nn.LSTM(input_size=2*hidden_size,\n",
    "                            hidden_size=hidden_size,\n",
    "                            num_layers=num_layers,\n",
    "                            bidirectional=bidirectional,\n",
    "                            batch_first=True)\n",
    "        # the output size doubles if the lstm is bidirectional\n",
    "        fc_in_size = 2*hidden_size if bidirectional else hidden_size\n",
    "        self.fc = nn.Linear(fc_in_size,output_size)\n",
    "\n",
    "    def forward(self, encoder_output, encoder_hidden, encoder_cell, word_tensor):\n",
    "        \"\"\"\n",
    "        Args:\n",
    "            encoder_output: output from encoder (N, L, decoder hidden)\n",
    "            encoder_hidden: hidden state from encoder (D * Layers, N, Hidden) for encoder\n",
    "            encoder_cell: cell state from encoder (D * Layers, N, Hidden) for encoder\n",
    "            word_tensor: word tensors containing indicies of letters (N, max length)\n",
    "        \"\"\"\n",
    "        batch_size = encoder_output.shape[0]\n",
    "        max_word_length = word_tensor.shape[-1]\n",
    "        # create the first decoder input, which is blank inputs\n",
    "        decoder_input = torch.tensor([0] * batch_size, dtype=torch.long, device=next(self.parameters()).device)\n",
    "        # initial hidden and cell state comes from final layer of encoder, shape is (N, encoder hidden)\n",
    "        decoder_hidden = encoder_hidden\n",
    "        decoder_cell = encoder_cell\n",
    "\n",
    "        decoder_outputs = torch.Tensor().to(device)\n",
    "        # for each letter in word\n",
    "        for i in range(max_word_length):\n",
    "            decoder_output, decoder_hidden, decoder_cell = self.step(decoder_input,\n",
    "                                                                     decoder_hidden,\n",
    "                                                                     decoder_cell,\n",
    "                                                                     encoder_output)\n",
    "            decoder_outputs = torch.cat((decoder_outputs,decoder_output), dim=1)  # add to list of outputs\n",
    "            print(decoder_output.shape)\n",
    "\n",
    "            teacher_force = torch.rand(1).item() < self.force_ratio\n",
    "            \n",
    "            if teacher_force:\n",
    "                decoder_input = word_tensor[:,i]    # next letter\n",
    "            else:\n",
    "                # for using when not teacher forcing, use model prediction\n",
    "                decoder_input = torch.argmax(decoder_output.squeeze(1), dim=-1) # 1D with length N\n",
    "        \n",
    "        probs = F.softmax(decoder_outputs, dim=-1)\n",
    "\n",
    "        return probs, decoder_hidden, decoder_cell\n",
    "\n",
    "    def step(self, decoder_input, hidden, cell, encoder_output):\n",
    "        \"\"\"\n",
    "        Args:\n",
    "            decoder_input: shape (N), should be indicies for the letters, dtype either int or long\n",
    "            hidden: hidden state of lstm (D*Layers, N, decoder hidden)\n",
    "            cell: cell state of lstm (D*Layers, N, deocder hidden)\n",
    "            encoder_output: output from encoder (N, L, decoder hidden)\n",
    "        \"\"\"\n",
    "        embedded = self.embedding(decoder_input.unsqueeze(1))  # (N, 1 decoder hidden)\n",
    "        query = hidden[-1].unsqueeze(0).permute(1, 0, 2) # (N, D*Layers, decoder hidden)\n",
    "        # print(query.shape)\n",
    "        context = F.scaled_dot_product_attention(query, encoder_output, encoder_output) # (N, 1, decoder hidden)\n",
    "        # print(context.shape)\n",
    "        input_lstm = torch.cat((embedded, context), dim=-1) # (N, 1, 2*decoder hidden)\n",
    "        output_lstm, (hidden, cell) = self.lstm(input_lstm, (hidden, cell)) # output lstm (N, 1, D*hidden)\n",
    "        output_fc = self.fc(output_lstm)\n",
    "\n",
    "        return output_fc, hidden, cell"
   ]
  },
  {
   "cell_type": "code",
   "execution_count": 3,
   "metadata": {},
   "outputs": [
    {
     "name": "stdout",
     "output_type": "stream",
     "text": [
      "torch.Size([8, 1, 27])\n",
      "torch.Size([8, 1, 27])\n",
      "torch.Size([8, 1, 27])\n",
      "torch.Size([8, 1, 27])\n",
      "torch.Size([8, 1, 27])\n",
      "torch.Size([8, 1, 27])\n",
      "torch.Size([8, 1, 27])\n"
     ]
    },
    {
     "ename": "RuntimeError",
     "evalue": "CUDA error: device-side assert triggered\nCUDA kernel errors might be asynchronously reported at some other API call, so the stacktrace below might be incorrect.\nFor debugging consider passing CUDA_LAUNCH_BLOCKING=1\nCompile with `TORCH_USE_CUDA_DSA` to enable device-side assertions.\n",
     "output_type": "error",
     "traceback": [
      "\u001b[1;31m---------------------------------------------------------------------------\u001b[0m",
      "\u001b[1;31mRuntimeError\u001b[0m                              Traceback (most recent call last)",
      "Cell \u001b[1;32mIn[3], line 12\u001b[0m\n\u001b[0;32m      9\u001b[0m test_en_cell \u001b[38;5;241m=\u001b[39m torch\u001b[38;5;241m.\u001b[39mrand((\u001b[38;5;241m2\u001b[39m, \u001b[38;5;241m8\u001b[39m, \u001b[38;5;241m32\u001b[39m))\u001b[38;5;241m.\u001b[39mto(device)\n\u001b[0;32m     10\u001b[0m test_word \u001b[38;5;241m=\u001b[39m torch\u001b[38;5;241m.\u001b[39mrandint(\u001b[38;5;241m0\u001b[39m, \u001b[38;5;241m28\u001b[39m, (\u001b[38;5;241m8\u001b[39m, \u001b[38;5;241m10\u001b[39m))\u001b[38;5;241m.\u001b[39mto(device)\n\u001b[1;32m---> 12\u001b[0m de_out, de_hid, de_cell \u001b[38;5;241m=\u001b[39m test_decoder(test_en_output, test_en_hid, test_en_cell, test_word)\n",
      "File \u001b[1;32mc:\\Users\\Alvin\\.conda\\envs\\NLP\\Lib\\site-packages\\torch\\nn\\modules\\module.py:1739\u001b[0m, in \u001b[0;36mModule._wrapped_call_impl\u001b[1;34m(self, *args, **kwargs)\u001b[0m\n\u001b[0;32m   1737\u001b[0m     \u001b[38;5;28;01mreturn\u001b[39;00m \u001b[38;5;28mself\u001b[39m\u001b[38;5;241m.\u001b[39m_compiled_call_impl(\u001b[38;5;241m*\u001b[39margs, \u001b[38;5;241m*\u001b[39m\u001b[38;5;241m*\u001b[39mkwargs)  \u001b[38;5;66;03m# type: ignore[misc]\u001b[39;00m\n\u001b[0;32m   1738\u001b[0m \u001b[38;5;28;01melse\u001b[39;00m:\n\u001b[1;32m-> 1739\u001b[0m     \u001b[38;5;28;01mreturn\u001b[39;00m \u001b[38;5;28mself\u001b[39m\u001b[38;5;241m.\u001b[39m_call_impl(\u001b[38;5;241m*\u001b[39margs, \u001b[38;5;241m*\u001b[39m\u001b[38;5;241m*\u001b[39mkwargs)\n",
      "File \u001b[1;32mc:\\Users\\Alvin\\.conda\\envs\\NLP\\Lib\\site-packages\\torch\\nn\\modules\\module.py:1750\u001b[0m, in \u001b[0;36mModule._call_impl\u001b[1;34m(self, *args, **kwargs)\u001b[0m\n\u001b[0;32m   1745\u001b[0m \u001b[38;5;66;03m# If we don't have any hooks, we want to skip the rest of the logic in\u001b[39;00m\n\u001b[0;32m   1746\u001b[0m \u001b[38;5;66;03m# this function, and just call forward.\u001b[39;00m\n\u001b[0;32m   1747\u001b[0m \u001b[38;5;28;01mif\u001b[39;00m \u001b[38;5;129;01mnot\u001b[39;00m (\u001b[38;5;28mself\u001b[39m\u001b[38;5;241m.\u001b[39m_backward_hooks \u001b[38;5;129;01mor\u001b[39;00m \u001b[38;5;28mself\u001b[39m\u001b[38;5;241m.\u001b[39m_backward_pre_hooks \u001b[38;5;129;01mor\u001b[39;00m \u001b[38;5;28mself\u001b[39m\u001b[38;5;241m.\u001b[39m_forward_hooks \u001b[38;5;129;01mor\u001b[39;00m \u001b[38;5;28mself\u001b[39m\u001b[38;5;241m.\u001b[39m_forward_pre_hooks\n\u001b[0;32m   1748\u001b[0m         \u001b[38;5;129;01mor\u001b[39;00m _global_backward_pre_hooks \u001b[38;5;129;01mor\u001b[39;00m _global_backward_hooks\n\u001b[0;32m   1749\u001b[0m         \u001b[38;5;129;01mor\u001b[39;00m _global_forward_hooks \u001b[38;5;129;01mor\u001b[39;00m _global_forward_pre_hooks):\n\u001b[1;32m-> 1750\u001b[0m     \u001b[38;5;28;01mreturn\u001b[39;00m forward_call(\u001b[38;5;241m*\u001b[39margs, \u001b[38;5;241m*\u001b[39m\u001b[38;5;241m*\u001b[39mkwargs)\n\u001b[0;32m   1752\u001b[0m result \u001b[38;5;241m=\u001b[39m \u001b[38;5;28;01mNone\u001b[39;00m\n\u001b[0;32m   1753\u001b[0m called_always_called_hooks \u001b[38;5;241m=\u001b[39m \u001b[38;5;28mset\u001b[39m()\n",
      "Cell \u001b[1;32mIn[2], line 52\u001b[0m, in \u001b[0;36mDecoder.forward\u001b[1;34m(self, encoder_output, encoder_hidden, encoder_cell, word_tensor)\u001b[0m\n\u001b[0;32m     49\u001b[0m         decoder_input \u001b[38;5;241m=\u001b[39m word_tensor[:,i]    \u001b[38;5;66;03m# next letter\u001b[39;00m\n\u001b[0;32m     50\u001b[0m     \u001b[38;5;28;01melse\u001b[39;00m:\n\u001b[0;32m     51\u001b[0m         \u001b[38;5;66;03m# for using when not teacher forcing, use model prediction\u001b[39;00m\n\u001b[1;32m---> 52\u001b[0m         decoder_input \u001b[38;5;241m=\u001b[39m torch\u001b[38;5;241m.\u001b[39margmax(decoder_output\u001b[38;5;241m.\u001b[39msqueeze(\u001b[38;5;241m1\u001b[39m), dim\u001b[38;5;241m=\u001b[39m\u001b[38;5;241m-\u001b[39m\u001b[38;5;241m1\u001b[39m) \u001b[38;5;66;03m# 1D with length N\u001b[39;00m\n\u001b[0;32m     54\u001b[0m probs \u001b[38;5;241m=\u001b[39m F\u001b[38;5;241m.\u001b[39msoftmax(decoder_outputs, dim\u001b[38;5;241m=\u001b[39m\u001b[38;5;241m-\u001b[39m\u001b[38;5;241m1\u001b[39m)\n\u001b[0;32m     56\u001b[0m \u001b[38;5;28;01mreturn\u001b[39;00m probs, decoder_hidden, decoder_cell\n",
      "\u001b[1;31mRuntimeError\u001b[0m: CUDA error: device-side assert triggered\nCUDA kernel errors might be asynchronously reported at some other API call, so the stacktrace below might be incorrect.\nFor debugging consider passing CUDA_LAUNCH_BLOCKING=1\nCompile with `TORCH_USE_CUDA_DSA` to enable device-side assertions.\n"
     ]
    }
   ],
   "source": [
    "test_decoder = Decoder(hidden_size=32,\n",
    "                       output_size=27,\n",
    "                       force_ratio=0.7,\n",
    "                       num_layers=2,\n",
    "                       bidirectional=False).to(device)\n",
    "\n",
    "test_en_output = torch.rand((8, 60, 32)).to(device)\n",
    "test_en_hid = torch.rand((2, 8, 32)).to(device)\n",
    "test_en_cell = torch.rand((2, 8, 32)).to(device)\n",
    "test_word = torch.randint(0, 28, (8, 10)).to(device)\n",
    "\n",
    "de_out, de_hid, de_cell = test_decoder(test_en_output, test_en_hid, test_en_cell, test_word)"
   ]
  }
 ],
 "metadata": {
  "kernelspec": {
   "display_name": "NLP",
   "language": "python",
   "name": "python3"
  },
  "language_info": {
   "codemirror_mode": {
    "name": "ipython",
    "version": 3
   },
   "file_extension": ".py",
   "mimetype": "text/x-python",
   "name": "python",
   "nbconvert_exporter": "python",
   "pygments_lexer": "ipython3",
   "version": "3.12.9"
  }
 },
 "nbformat": 4,
 "nbformat_minor": 2
}
