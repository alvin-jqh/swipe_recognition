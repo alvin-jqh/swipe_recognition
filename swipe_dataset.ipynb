{
 "cells": [
  {
   "cell_type": "code",
   "execution_count": 165,
   "metadata": {},
   "outputs": [],
   "source": [
    "import json\n",
    "import pandas as pd\n",
    "\n",
    "# Path to your NDJSON file\n",
    "file_path = \"swipes.ndjson\"\n",
    "\n",
    "# Read the NDJSON file into a DataFrame\n",
    "df = pd.read_json(file_path, lines=True, encoding=\"utf-16\")"
   ]
  },
  {
   "cell_type": "code",
   "execution_count": 166,
   "metadata": {},
   "outputs": [],
   "source": [
    "df = df.drop(columns=[\"username\"])"
   ]
  },
  {
   "cell_type": "code",
   "execution_count": 167,
   "metadata": {},
   "outputs": [
    {
     "data": {
      "text/plain": [
       "1"
      ]
     },
     "execution_count": 167,
     "metadata": {},
     "output_type": "execute_result"
    }
   ],
   "source": [
    "len(df[\"swipe\"][0])"
   ]
  },
  {
   "cell_type": "code",
   "execution_count": 168,
   "metadata": {},
   "outputs": [],
   "source": [
    "# removes any datapoints that are only one point\n",
    "df = df[df['swipe'].apply(lambda x: isinstance(x, list) and len(x) != 1)]"
   ]
  },
  {
   "cell_type": "code",
   "execution_count": 169,
   "metadata": {},
   "outputs": [],
   "source": [
    "# Create new columns for x, y, and t as lists\n",
    "df['x'] = df['swipe'].apply(lambda swipe: [point[0] for point in swipe])\n",
    "df['y'] = df['swipe'].apply(lambda swipe: [point[1] for point in swipe])\n",
    "df['t'] = df['swipe'].apply(lambda swipe: [point[2] for point in swipe])"
   ]
  },
  {
   "cell_type": "code",
   "execution_count": 170,
   "metadata": {},
   "outputs": [],
   "source": [
    "df[\"t\"] = df[\"t\"].apply(lambda x: [t - x[0] for t in x])"
   ]
  },
  {
   "cell_type": "code",
   "execution_count": 171,
   "metadata": {},
   "outputs": [],
   "source": [
    "import numpy as np\n",
    "\n",
    "flattened_x = np.concatenate(df['x'].values)\n",
    "flattened_y = np.concatenate(df['y'].values)\n",
    "max_abs_value = max(np.max(np.abs(flattened_x)), np.max(np.abs(flattened_y)))"
   ]
  },
  {
   "cell_type": "code",
   "execution_count": 172,
   "metadata": {},
   "outputs": [],
   "source": [
    "def process_coordinate(list):\n",
    "    first = list[0]\n",
    "    return np.array([(t - first)/max_abs_value for t in list])"
   ]
  },
  {
   "cell_type": "code",
   "execution_count": 173,
   "metadata": {},
   "outputs": [],
   "source": [
    "df[\"x_scaled\"] = df[\"x\"].apply(process_coordinate)\n",
    "df[\"y_scaled\"] = df[\"y\"].apply(process_coordinate)"
   ]
  },
  {
   "cell_type": "code",
   "execution_count": 174,
   "metadata": {},
   "outputs": [
    {
     "data": {
      "image/png": "[encoded data removed]",
      "text/plain": [
       "<Figure size 640x480 with 2 Axes>"
      ]
     },
     "metadata": {},
     "output_type": "display_data"
    }
   ],
   "source": [
    "import matplotlib.pyplot as plt\n",
    "import numpy as np\n",
    "\n",
    "# Example data\n",
    "i = 9\n",
    "x = np.array(df[\"x_scaled\"][i])\n",
    "y = np.array(df[\"y_scaled\"][i]) * -1\n",
    "time = np.array(df[\"t\"][i])\n",
    "\n",
    "# Normalize the time values for the colormap\n",
    "norm = plt.Normalize(min(time), max(time))\n",
    "colors = plt.cm.viridis(norm(time))  # Use a colormap (e.g., 'viridis')\n",
    "\n",
    "# Create a figure and axis\n",
    "fig, ax = plt.subplots()\n",
    "\n",
    "# Plot each segment with a color based on time\n",
    "for j in range(len(x) - 1):\n",
    "    ax.plot(x[j:j+2], y[j:j+2], color=colors[j], marker='o' if j == 0 else None)\n",
    "\n",
    "# Highlight the starting point\n",
    "ax.plot(x[0], y[0], \"r*\")\n",
    "ax.set_title(df[\"word\"][i])\n",
    "ax.set_aspect('equal', adjustable='box')\n",
    "# Create a ScalarMappable for the colorbar\n",
    "sm = plt.cm.ScalarMappable(cmap='viridis', norm=norm)\n",
    "sm.set_array([])\n",
    "\n",
    "# Add a colorbar for reference\n",
    "cbar = plt.colorbar(sm, ax=ax, label='Time')\n",
    "\n",
    "plt.show()"
   ]
  },
  {
   "cell_type": "code",
   "execution_count": 175,
   "metadata": {},
   "outputs": [
    {
     "data": {
      "text/plain": [
       "numpy.ndarray"
      ]
     },
     "execution_count": 175,
     "metadata": {},
     "output_type": "execute_result"
    }
   ],
   "source": [
    "type(df[\"x_scaled\"][1])"
   ]
  },
  {
   "cell_type": "code",
   "execution_count": 176,
   "metadata": {},
   "outputs": [],
   "source": [
    "i = 9\n",
    "x = df[\"x_scaled\"][i]\n",
    "y = df[\"y_scaled\"][i]\n",
    "t = df[\"t\"][i]\n",
    "\n",
    "dx = np.diff(x)\n",
    "dy = np.diff(y)\n",
    "dt = np.diff(t)\n",
    "\n",
    "distance = np.sqrt(dx**2 + dy**2)\n",
    "\n",
    "speed = distance/dt  # in units per ms\n",
    "# Pad speed (forward difference, pad with first value)\n",
    "padded_speed = np.concatenate(([speed[0]], speed))\n",
    "\n",
    "dv = np.diff(padded_speed)\n",
    "acceleration = dv/dt\n",
    "\n",
    "padded_acceleration = np.concatenate(([acceleration[0]], acceleration))\n",
    "\n",
    "angles = np.arctan2(dy,dx)\n",
    "padded_angles = np.concatenate((angles, [angles[-1]]))\n"
   ]
  },
  {
   "cell_type": "code",
   "execution_count": 177,
   "metadata": {},
   "outputs": [],
   "source": [
    "def calculate_v_a_r(x, y, t):\n",
    "    # calculates the speed in units/ms, acceleration in units/ms/ms and approach from previous point between -pi and pi\n",
    "    dx = np.diff(x)\n",
    "    dy = np.diff(y)\n",
    "    dt = np.diff(t)\n",
    "\n",
    "    distance = np.sqrt(dx**2 + dy**2)\n",
    "    speed = distance / dt  # in units/ms\n",
    "    padded_speed = np.concatenate(([speed[0]], speed))\n",
    "\n",
    "    dv = np.diff(padded_speed)\n",
    "    acceleration = dv / dt  # in units/ms\n",
    "    padded_acceleration = np.concatenate(([acceleration[0]], acceleration))\n",
    "\n",
    "    angles = np.arctan2(dy, dx)  # in radians\n",
    "    padded_angles = np.concatenate(([angles[0]], angles))\n",
    "\n",
    "    return pd.Series([padded_speed, padded_acceleration, padded_angles])"
   ]
  },
  {
   "cell_type": "code",
   "execution_count": 178,
   "metadata": {},
   "outputs": [],
   "source": [
    "df[[\"velocity\", \"acceleration\", \"angles\"]] = df.apply(lambda row: calculate_v_a_r(row['x_scaled'], row['y_scaled'], row['t']), axis=1)"
   ]
  },
  {
   "cell_type": "code",
   "execution_count": 187,
   "metadata": {},
   "outputs": [],
   "source": [
    "def collate_input(x_coord, y_coord, time, speed, accel, angle):\n",
    "    return [[x, y, t, v, a, r] for x, y, t, v, a, r in zip(x_coord, y_coord, time, speed, accel, angle)]"
   ]
  },
  {
   "cell_type": "code",
   "execution_count": 190,
   "metadata": {},
   "outputs": [],
   "source": [
    "df[\"input\"] = df.apply(lambda row: collate_input(row['x_scaled'], row['y_scaled'], row['t'], row[\"velocity\"], row[\"acceleration\"], row[\"angles\"]), axis=1)"
   ]
  },
  {
   "cell_type": "markdown",
   "metadata": {},
   "source": [
    "Inputs\n",
    "\n",
    "- X, Y : scaled by absolute max of x and y with the starting point being (0,0)\n",
    "- time : time of touchpoint from the beginnning of the gesture\n",
    "- speed: instantaneous speed in units/ms\n",
    "- acceleration: accleration in units/ms/ms\n",
    "- angles: approach angle from the previous point in radians from -$\\pi$ to $\\pi$"
   ]
  },
  {
   "cell_type": "markdown",
   "metadata": {},
   "source": [
    "Targets\n",
    "\n",
    "- Convert the target word into a sequence\n",
    "- Each letter is then tokenised\n",
    "- Mapped to a vocabulary\n",
    "\n",
    "_ is a blank character used for CTC loss"
   ]
  },
  {
   "cell_type": "code",
   "execution_count": 193,
   "metadata": {},
   "outputs": [],
   "source": [
    "vocabulary = {'_': 0, 'a': 1, 'b': 2, 'c': 3, 'd': 4, 'e': 5, 'f': 6, 'g': 7, 'h': 8,\n",
    "              'i': 9, 'j': 10, 'k': 11, 'l': 12, 'm': 13, 'n': 14, 'o': 15, 'p': 16,\n",
    "              'q': 17, 'r': 18, 's': 19, 't': 20, 'u': 21, 'v': 22, 'w': 23, 'x': 24,\n",
    "              'y': 25, 'z': 26}"
   ]
  },
  {
   "cell_type": "code",
   "execution_count": 197,
   "metadata": {},
   "outputs": [],
   "source": [
    "def process_target(word):\n",
    "    word = word.lower()\n",
    "    return [vocabulary[char] for char in word]"
   ]
  },
  {
   "cell_type": "code",
   "execution_count": 201,
   "metadata": {},
   "outputs": [],
   "source": [
    "df[\"target\"] = df[\"word\"].apply(process_target)"
   ]
  }
 ],
 "metadata": {
  "kernelspec": {
   "display_name": "Python 3",
   "language": "python",
   "name": "python3"
  },
  "language_info": {
   "codemirror_mode": {
    "name": "ipython",
    "version": 3
   },
   "file_extension": ".py",
   "mimetype": "text/x-python",
   "name": "python",
   "nbconvert_exporter": "python",
   "pygments_lexer": "ipython3",
   "version": "3.12.9"
  }
 },
 "nbformat": 4,
 "nbformat_minor": 2
}
